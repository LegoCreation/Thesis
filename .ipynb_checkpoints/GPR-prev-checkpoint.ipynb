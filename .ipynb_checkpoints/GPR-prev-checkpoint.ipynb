{
 "cells": [
  {
   "cell_type": "code",
   "execution_count": 38,
   "id": "eb21b445",
   "metadata": {},
   "outputs": [],
   "source": [
    "import os\n",
    "import sys\n",
    "thread = 8 #sys.argv[1]\n",
    "os.environ[\"OMP_NUM_THREADS\"] = str(thread) # export OMP_NUM_THREADS=4\n",
    "os.environ[\"OPENBLAS_NUM_THREADS\"] = str(thread) # export OPENBLAS_NUM_THREADS=4 \n",
    "os.environ[\"MKL_NUM_THREADS\"] = str(thread) # export MKL_NUM_THREADS=6\n",
    "os.environ[\"VECLIB_MAXIMUM_THREADS\"] = str(thread) # export VECLIB_MAXIMUM_THREADS=4\n",
    "os.environ[\"NUMEXPR_NUM_THREADS\"] = str(thread) # export NUMEXPR_NUM_THREADS=6\n",
    "os.environ['CUDA_VISIBLE_DEVICES'] = '-1'\n",
    "os.environ[\"TF_ENABLE_ONEDNN_OPTS\"] = \"0\"\n",
    "import matplotlib.pyplot as plt\n",
    "\n",
    "import gpflow\n",
    "import numpy as np\n",
    "import time\n",
    "from sklearn.gaussian_process import GaussianProcessRegressor\n",
    "from sklearn.gaussian_process.kernels import ConstantKernel, RBF, RationalQuadratic, WhiteKernel\n",
    "import GPy\n",
    "import gpflow\n",
    "import pyro\n",
    "import torch\n",
    "import pyro.contrib.gp as pyrogp\n",
    "import pyro.distributions as dist\n",
    "import tensorflow as tf\n",
    "from pyro.infer import SVI, Trace_ELBO\n",
    "from pyro.infer.util import torch_backward, torch_item\n",
    "from pyro.contrib.autoguide import AutoMultivariateNormal\n",
    "from torch.distributions import constraints\n",
    "from torch.nn import Parameter\n",
    "from pyro.optim import Adam"
   ]
  },
  {
   "cell_type": "code",
   "execution_count": 48,
   "id": "6190f5e2",
   "metadata": {},
   "outputs": [],
   "source": [
    "X = np.load(\"./data/X.npy\")\n",
    "y = np.loadtxt(\"./data/E_def2-tzvp.dat\")"
   ]
  },
  {
   "cell_type": "code",
   "execution_count": 49,
   "id": "a3ee9c83",
   "metadata": {},
   "outputs": [],
   "source": [
    "class GPR_benchmark():\n",
    "    def __init__(self, avg_mae, avg_training_time_cpu, avg_testing_time_cpu, \n",
    "                 avg_training_time_wall, avg_testing_time_wall, library, kernel, \n",
    "                 sample_size, sigma, length_scale, white_noise, optimize=False, \n",
    "                 iterations=100, jitter=1e-6, seed = 42):\n",
    "        self.avg_mae = avg_mae\n",
    "        self.avg_training_time_cpu = avg_training_time_cpu\n",
    "        self.avg_testing_time_cpu = avg_testing_time_cpu\n",
    "        self.avg_training_time_wall = avg_training_time_wall\n",
    "        self.avg_testing_time_wall = avg_testing_time_wall\n",
    "        self.library = library\n",
    "        self.kernel = kernel\n",
    "        self.sample_size = sample_size\n",
    "        self.sigma = sigma\n",
    "        self.length_scale = length_scale\n",
    "        self.white_noise = white_noise\n",
    "        self.optimize = optimize\n",
    "        self.iterations = iterations\n",
    "        self.jitter = jitter\n",
    "        self.seed = seed"
   ]
  },
  {
   "cell_type": "code",
   "execution_count": 72,
   "id": "66246fae",
   "metadata": {},
   "outputs": [],
   "source": [
    "\n",
    "class GPR:\n",
    "    def __init__(self, library='scikit', kernel='gaussian', sigma = 1.0, length_scale=1.0, white_noise=0.1, optimize = False, iterations = 100, jitter = 1e-6, seed = 42):\n",
    "        self.jitter = jitter\n",
    "        self.sigma = sigma\n",
    "        self.library = library\n",
    "        self.kernel = kernel\n",
    "        self.length_scale = length_scale\n",
    "        self.white_noise = white_noise\n",
    "        self.iterations = iterations\n",
    "        self.optimize = optimize\n",
    "        self.is_fit = False\n",
    "        self.avg_mae = 0\n",
    "        self.avg_training_time_cpu = 0\n",
    "        self.avg_testing_time_cpu = 0\n",
    "        self.avg_training_time_wall = 0\n",
    "        self.avg_testing_time_wall = 0\n",
    "        self.seed = seed\n",
    "    def fit(self, X, y):\n",
    "        pyro.set_rng_seed(self.seed)\n",
    "        torch.manual_seed(self.seed)\n",
    "        np.random.seed(self.seed)\n",
    "        tf.random.set_seed(self.seed)\n",
    "        start_cpu = time.process_time()\n",
    "        start_wall = time.perf_counter()\n",
    "        self.X = X\n",
    "        self.y = y\n",
    "        start_time = time.time()\n",
    "        if self.library == 'scikit':\n",
    "            kernel_scikit = None\n",
    "            if self.kernel == 'gaussian':\n",
    "                kernel_scikit = self.sigma * RBF(length_scale=self.length_scale) + WhiteKernel(\n",
    "                    noise_level=self.white_noise, noise_level_bounds=(1e-6, 1e1))\n",
    "            elif self.kernel == 'laplacian':\n",
    "                kernel_scikit = self.sigma * RationalQuadratic(length_scale=self.length_scale,\n",
    "                                                          alpha=1.0) + WhiteKernel(noise_level=self.white_noise,\n",
    "                                                                                   noise_level_bounds=(1e-6, 1e1))\n",
    "            if self.optimize:\n",
    "                self.model = GaussianProcessRegressor(kernel=kernel_scikit,\n",
    "                                                      alpha = self.jitter,\n",
    "                                                      n_restarts_optimizer = self.iterations)\n",
    "            else:\n",
    "                self.model = GaussianProcessRegressor(kernel=kernel_scikit,\n",
    "                                                      alpha = self.jitter,\n",
    "                                                      optimizer = None, n_restarts_optimizer = 0)\n",
    "            self.model.fit(X, y)\n",
    "        elif self.library == 'gpy':\n",
    "            kernel_gpy = None\n",
    "            y = np.expand_dims(y, axis=1)\n",
    "            if self.kernel == 'gaussian':\n",
    "                kernel_gpy = GPy.kern.RBF(input_dim=X.shape[1],\n",
    "                                          variance=self.sigma,\n",
    "                                          lengthscale=self.length_scale, ARD = True)\n",
    "            elif self.kernel == 'laplacian':\n",
    "                kernel_gpy = GPy.kern.Exponential(input_dim=X.shape[1],\n",
    "                                                  variance=self.sigma,\n",
    "                                                  lengthscale=self.length_scale)\n",
    "\n",
    "            self.model = GPy.models.GPRegression(X, y, kernel_gpy, noise_var=self.white_noise)\n",
    "            if self.optimize:\n",
    "                self.model.optimize(max_iters=self.iterations)\n",
    "                print(self.model.param_array)\n",
    "            \n",
    "        elif self.library == 'gpflow':\n",
    "            kernel_gpflow = None\n",
    "            y = np.expand_dims(y, axis=1)\n",
    "            if self.kernel == 'gaussian':\n",
    "                kernel_gpflow = gpflow.kernels.SquaredExponential(variance=self.sigma,\n",
    "                                                                  lengthscales=self.length_scale)\n",
    "            elif self.kernel == 'laplacian':\n",
    "                kernel_gpflow = gpflow.kernels.Exponential(variance=self.sigma,\n",
    "                                                           lengthscales=self.length_scale * 2)\n",
    "            self.model = gpflow.models.GPR(data=(X, y), kernel=kernel_gpflow,\n",
    "                                           likelihood = gpflow.likelihoods.Gaussian(variance= self.sigma))\n",
    "            if self.optimize:\n",
    "                optimizer = gpflow.optimizers.Scipy()\n",
    "                optimizer.minimize(self.model.training_loss,\n",
    "                                   self.model.trainable_variables,\n",
    "                                   options=dict(maxiter=self.iterations))\n",
    "\n",
    "\n",
    "        elif self.library == 'pyro':\n",
    "            self.tensorX = torch.from_numpy(X).to(torch.device('cpu'))\n",
    "            self.tensory = torch.from_numpy(y).to(torch.device('cpu'))\n",
    "            kernel_pyro = None\n",
    "            if self.kernel == 'gaussian':\n",
    "                kernel_pyro = pyrogp.kernels.RBF(input_dim=X.shape[1],\n",
    "                                                 variance=torch.tensor(self.sigma).to(torch.device('cpu')),\n",
    "                                                 lengthscale=torch.tensor(self.length_scale).to(torch.device('cpu')))\n",
    "            elif self.kernel == 'laplacian':\n",
    "                kernel_pyro = pyrogp.kernels.Exponential(input_dim=X.shape[1],\n",
    "                                                         variance=torch.tensor(self.sigma).to(torch.device('cpu')),\n",
    "                                                         lengthscale=torch.tensor(self.length_scale).to(torch.device('cpu')))\n",
    "            self.model = pyrogp.models.GPRegression(self.tensorX,\n",
    "                                                    self.tensory,\n",
    "                                                    kernel_pyro,\n",
    "                                                    noise=self.tensorX.new_tensor(self.white_noise).to(torch.device('cpu')),\n",
    "                                                    jitter=self.jitter)\n",
    "            if self.optimize:\n",
    "                print(\"Pyro Optimizer On\")\n",
    "                pyrogp.util.train(self.model, optimizer=None,\n",
    "                                  loss_fn=None, retain_graph=None,\n",
    "                                  num_steps=self.iterations)\n",
    "\n",
    "                \n",
    "\n",
    "        end_cpu = time.process_time()\n",
    "        end_wall = time.perf_counter()\n",
    "        self.training_time_wall = end_wall - start_wall\n",
    "        self.training_time_cpu = end_cpu - start_cpu\n",
    "        self.is_fit = True\n",
    "\n",
    "    def predict(self, X):\n",
    "        if not self.is_fit:\n",
    "            print(\"Fit model first\")\n",
    "        start_time = time.time()\n",
    "        start_cpu = time.process_time()\n",
    "        start_wall = time.perf_counter()\n",
    "        if self.library == 'scikit':\n",
    "            y_pred = self.model.predict(X, return_std=False)\n",
    "        elif self.library == 'gpy':\n",
    "            y_pred, _ = self.model.predict(X)\n",
    "        elif self.library == 'gpflow':\n",
    "            y_pred, _ = self.model.predict_f(X)\n",
    "        elif self.library == 'pyro':\n",
    "            with torch.no_grad():\n",
    "                y_pred, _ = self.model.forward(torch.from_numpy(X).to(torch.device('cpu')))\n",
    "                y_pred = y_pred.detach().numpy()\n",
    "#         elif self.library == 'pymc3':\n",
    "#             y_pred = self.model.predict(X)\n",
    "        end_cpu = time.process_time()\n",
    "        end_wall = time.perf_counter()\n",
    "\n",
    "        self.cpu_time = end_cpu - start_cpu\n",
    "        self.testing_time_wall = end_wall - start_wall\n",
    "        self.testing_time_cpu = end_cpu - start_cpu\n",
    "        return y_pred\n",
    "    \n",
    "    def compute_mae(self, X, y):\n",
    "        y_predicted = self.predict(X)\n",
    "        self.mae = np.mean(np.abs(y_predicted - y))\n",
    "        return self.mae"
   ]
  },
  {
   "cell_type": "code",
   "execution_count": 51,
   "id": "e5ec5da3",
   "metadata": {},
   "outputs": [],
   "source": [
    "seed = 0\n",
    "pyro.set_rng_seed(seed)\n",
    "np.random.seed(seed)\n",
    "tf.random.set_seed(seed)"
   ]
  },
  {
   "cell_type": "code",
   "execution_count": 23,
   "id": "d3a36c2e",
   "metadata": {},
   "outputs": [
    {
     "name": "stdout",
     "output_type": "stream",
     "text": [
      "10.531287334859371\n"
     ]
    }
   ],
   "source": [
    "start = time.perf_counter()\n",
    "scikit = GPR(library='scikit', kernel='gaussian', sigma = 1, length_scale=720, white_noise=1e-6)\n",
    "\n",
    "\n",
    "scikit.fit(X[:8000], y[:8000])\n",
    "\n",
    "total = time.perf_counter() - start\n",
    "print(total)"
   ]
  },
  {
   "cell_type": "code",
   "execution_count": 30,
   "id": "ac150c98",
   "metadata": {},
   "outputs": [
    {
     "name": "stdout",
     "output_type": "stream",
     "text": [
      "8.720667019486427\n"
     ]
    }
   ],
   "source": [
    "start = time.perf_counter()\n",
    "np.mean(abs(y[-8000:] - scikit.predict(X[-8000:])))\n",
    "total = time.perf_counter() - start\n",
    "print(total)"
   ]
  },
  {
   "cell_type": "code",
   "execution_count": null,
   "id": "44246c64",
   "metadata": {},
   "outputs": [
    {
     "name": "stderr",
     "output_type": "stream",
     "text": [
      " /home/ssunar/anaconda3/lib/python3.9/site-packages/paramz/transformations.py:111: RuntimeWarning:overflow encountered in expm1\n"
     ]
    }
   ],
   "source": [
    "\n",
    "gpy = GPR(library='gpy', kernel='gaussian', sigma = 1, length_scale=4000, white_noise=1e-6, optimize = True, iterations=100)\n",
    "\n",
    "gpy.fit(X[:8000], y[:8000])\n",
    "\n"
   ]
  },
  {
   "cell_type": "code",
   "execution_count": null,
   "id": "35db3d14",
   "metadata": {},
   "outputs": [],
   "source": [
    "%time\n",
    "print(np.mean(abs(y[-1000:] - gpy.predict(X[-1000:]))))"
   ]
  },
  {
   "cell_type": "code",
   "execution_count": 17,
   "id": "01ec1ba7",
   "metadata": {},
   "outputs": [
    {
     "name": "stdout",
     "output_type": "stream",
     "text": [
      "CPU times: user 12 µs, sys: 4 µs, total: 16 µs\n",
      "Wall time: 11 µs\n"
     ]
    }
   ],
   "source": [
    "%time\n",
    "gflow = GPR(library='gpflow', kernel='gaussian', sigma = 1, length_scale=720, white_noise=1e-6)\n",
    "\n",
    "gflow.fit(X[:8000], y[:8000])"
   ]
  },
  {
   "cell_type": "code",
   "execution_count": 18,
   "id": "08d6a73d",
   "metadata": {},
   "outputs": [
    {
     "name": "stdout",
     "output_type": "stream",
     "text": [
      "CPU times: user 17 µs, sys: 5 µs, total: 22 µs\n",
      "Wall time: 14.1 µs\n"
     ]
    },
    {
     "data": {
      "text/plain": [
       "0.08535313998286276"
      ]
     },
     "execution_count": 18,
     "metadata": {},
     "output_type": "execute_result"
    }
   ],
   "source": [
    "%time\n",
    "np.mean(abs(y[-1000:] - gflow.predict(X[-1000:])))"
   ]
  },
  {
   "cell_type": "code",
   "execution_count": 19,
   "id": "ca662b15",
   "metadata": {},
   "outputs": [
    {
     "name": "stdout",
     "output_type": "stream",
     "text": [
      "CPU times: user 4 µs, sys: 1 µs, total: 5 µs\n",
      "Wall time: 10.3 µs\n"
     ]
    }
   ],
   "source": [
    "%time\n",
    "pyro_ins = GPR(library='pyro', kernel='laplacian', sigma = 1, length_scale=720, white_noise=1e-6)\n",
    "\n",
    "pyro_ins.fit(X[:8000], y[:8000])"
   ]
  },
  {
   "cell_type": "code",
   "execution_count": 31,
   "id": "c30388a7",
   "metadata": {},
   "outputs": [
    {
     "name": "stdout",
     "output_type": "stream",
     "text": [
      "6.30885773152113\n"
     ]
    }
   ],
   "source": [
    "start = time.perf_counter()\n",
    "\n",
    "np.mean(abs(y[-8000:] - pyro_ins.predict(X[-8000:])))\n",
    "total = time.perf_counter() - start\n",
    "print(total)"
   ]
  },
  {
   "cell_type": "code",
   "execution_count": 37,
   "id": "ad6a62c9",
   "metadata": {},
   "outputs": [
    {
     "ename": "KeyboardInterrupt",
     "evalue": "",
     "output_type": "error",
     "traceback": [
      "\u001b[0;31m---------------------------------------------------------------------------\u001b[0m",
      "\u001b[0;31mKeyboardInterrupt\u001b[0m                         Traceback (most recent call last)",
      "\u001b[0;32m/tmp/ipykernel_38020/2790842091.py\u001b[0m in \u001b[0;36m<module>\u001b[0;34m\u001b[0m\n\u001b[1;32m     38\u001b[0m                               \u001b[0mjitter\u001b[0m \u001b[0;34m=\u001b[0m \u001b[0mjitter\u001b[0m\u001b[0;34m,\u001b[0m\u001b[0;34m\u001b[0m\u001b[0;34m\u001b[0m\u001b[0m\n\u001b[1;32m     39\u001b[0m                               seed = j)\n\u001b[0;32m---> 40\u001b[0;31m                 \u001b[0mgpr_ins\u001b[0m\u001b[0;34m.\u001b[0m\u001b[0mfit\u001b[0m\u001b[0;34m(\u001b[0m\u001b[0mX_train\u001b[0m\u001b[0;34m,\u001b[0m \u001b[0my_train\u001b[0m\u001b[0;34m)\u001b[0m\u001b[0;34m\u001b[0m\u001b[0;34m\u001b[0m\u001b[0m\n\u001b[0m\u001b[1;32m     41\u001b[0m                 \u001b[0mtraining_wall_array\u001b[0m\u001b[0;34m[\u001b[0m\u001b[0mi\u001b[0m\u001b[0;34m]\u001b[0m \u001b[0;34m+=\u001b[0m \u001b[0mgpr_ins\u001b[0m\u001b[0;34m.\u001b[0m\u001b[0mtraining_time_wall\u001b[0m\u001b[0;34m\u001b[0m\u001b[0;34m\u001b[0m\u001b[0m\n\u001b[1;32m     42\u001b[0m                 \u001b[0mtraining_cpu_array\u001b[0m\u001b[0;34m[\u001b[0m\u001b[0mi\u001b[0m\u001b[0;34m]\u001b[0m \u001b[0;34m+=\u001b[0m \u001b[0mgpr_ins\u001b[0m\u001b[0;34m.\u001b[0m\u001b[0mtraining_time_cpu\u001b[0m\u001b[0;34m\u001b[0m\u001b[0;34m\u001b[0m\u001b[0m\n",
      "\u001b[0;32m/tmp/ipykernel_38020/2217560827.py\u001b[0m in \u001b[0;36mfit\u001b[0;34m(self, X, y)\u001b[0m\n\u001b[1;32m     43\u001b[0m                                                       \u001b[0malpha\u001b[0m \u001b[0;34m=\u001b[0m \u001b[0mself\u001b[0m\u001b[0;34m.\u001b[0m\u001b[0mjitter\u001b[0m\u001b[0;34m,\u001b[0m\u001b[0;34m\u001b[0m\u001b[0;34m\u001b[0m\u001b[0m\n\u001b[1;32m     44\u001b[0m                                                       optimizer = None, n_restarts_optimizer = 0)\n\u001b[0;32m---> 45\u001b[0;31m             \u001b[0mself\u001b[0m\u001b[0;34m.\u001b[0m\u001b[0mmodel\u001b[0m\u001b[0;34m.\u001b[0m\u001b[0mfit\u001b[0m\u001b[0;34m(\u001b[0m\u001b[0mX\u001b[0m\u001b[0;34m,\u001b[0m \u001b[0my\u001b[0m\u001b[0;34m)\u001b[0m\u001b[0;34m\u001b[0m\u001b[0;34m\u001b[0m\u001b[0m\n\u001b[0m\u001b[1;32m     46\u001b[0m         \u001b[0;32melif\u001b[0m \u001b[0mself\u001b[0m\u001b[0;34m.\u001b[0m\u001b[0mlibrary\u001b[0m \u001b[0;34m==\u001b[0m \u001b[0;34m'gpy'\u001b[0m\u001b[0;34m:\u001b[0m\u001b[0;34m\u001b[0m\u001b[0;34m\u001b[0m\u001b[0m\n\u001b[1;32m     47\u001b[0m             \u001b[0mkernel_gpy\u001b[0m \u001b[0;34m=\u001b[0m \u001b[0;32mNone\u001b[0m\u001b[0;34m\u001b[0m\u001b[0;34m\u001b[0m\u001b[0m\n",
      "\u001b[0;32m~/anaconda3/lib/python3.9/site-packages/sklearn/gaussian_process/_gpr.py\u001b[0m in \u001b[0;36mfit\u001b[0;34m(self, X, y)\u001b[0m\n\u001b[1;32m    305\u001b[0m         \u001b[0;31m# of actual query points\u001b[0m\u001b[0;34m\u001b[0m\u001b[0;34m\u001b[0m\u001b[0m\n\u001b[1;32m    306\u001b[0m         \u001b[0;31m# Alg. 2.1, page 19, line 2 -> L = cholesky(K + sigma^2 I)\u001b[0m\u001b[0;34m\u001b[0m\u001b[0;34m\u001b[0m\u001b[0m\n\u001b[0;32m--> 307\u001b[0;31m         \u001b[0mK\u001b[0m \u001b[0;34m=\u001b[0m \u001b[0mself\u001b[0m\u001b[0;34m.\u001b[0m\u001b[0mkernel_\u001b[0m\u001b[0;34m(\u001b[0m\u001b[0mself\u001b[0m\u001b[0;34m.\u001b[0m\u001b[0mX_train_\u001b[0m\u001b[0;34m)\u001b[0m\u001b[0;34m\u001b[0m\u001b[0;34m\u001b[0m\u001b[0m\n\u001b[0m\u001b[1;32m    308\u001b[0m         \u001b[0mK\u001b[0m\u001b[0;34m[\u001b[0m\u001b[0mnp\u001b[0m\u001b[0;34m.\u001b[0m\u001b[0mdiag_indices_from\u001b[0m\u001b[0;34m(\u001b[0m\u001b[0mK\u001b[0m\u001b[0;34m)\u001b[0m\u001b[0;34m]\u001b[0m \u001b[0;34m+=\u001b[0m \u001b[0mself\u001b[0m\u001b[0;34m.\u001b[0m\u001b[0malpha\u001b[0m\u001b[0;34m\u001b[0m\u001b[0;34m\u001b[0m\u001b[0m\n\u001b[1;32m    309\u001b[0m         \u001b[0;32mtry\u001b[0m\u001b[0;34m:\u001b[0m\u001b[0;34m\u001b[0m\u001b[0;34m\u001b[0m\u001b[0m\n",
      "\u001b[0;32m~/anaconda3/lib/python3.9/site-packages/sklearn/gaussian_process/kernels.py\u001b[0m in \u001b[0;36m__call__\u001b[0;34m(self, X, Y, eval_gradient)\u001b[0m\n\u001b[1;32m    844\u001b[0m             \u001b[0;32mreturn\u001b[0m \u001b[0mK1\u001b[0m \u001b[0;34m+\u001b[0m \u001b[0mK2\u001b[0m\u001b[0;34m,\u001b[0m \u001b[0mnp\u001b[0m\u001b[0;34m.\u001b[0m\u001b[0mdstack\u001b[0m\u001b[0;34m(\u001b[0m\u001b[0;34m(\u001b[0m\u001b[0mK1_gradient\u001b[0m\u001b[0;34m,\u001b[0m \u001b[0mK2_gradient\u001b[0m\u001b[0;34m)\u001b[0m\u001b[0;34m)\u001b[0m\u001b[0;34m\u001b[0m\u001b[0;34m\u001b[0m\u001b[0m\n\u001b[1;32m    845\u001b[0m         \u001b[0;32melse\u001b[0m\u001b[0;34m:\u001b[0m\u001b[0;34m\u001b[0m\u001b[0;34m\u001b[0m\u001b[0m\n\u001b[0;32m--> 846\u001b[0;31m             \u001b[0;32mreturn\u001b[0m \u001b[0mself\u001b[0m\u001b[0;34m.\u001b[0m\u001b[0mk1\u001b[0m\u001b[0;34m(\u001b[0m\u001b[0mX\u001b[0m\u001b[0;34m,\u001b[0m \u001b[0mY\u001b[0m\u001b[0;34m)\u001b[0m \u001b[0;34m+\u001b[0m \u001b[0mself\u001b[0m\u001b[0;34m.\u001b[0m\u001b[0mk2\u001b[0m\u001b[0;34m(\u001b[0m\u001b[0mX\u001b[0m\u001b[0;34m,\u001b[0m \u001b[0mY\u001b[0m\u001b[0;34m)\u001b[0m\u001b[0;34m\u001b[0m\u001b[0;34m\u001b[0m\u001b[0m\n\u001b[0m\u001b[1;32m    847\u001b[0m \u001b[0;34m\u001b[0m\u001b[0m\n\u001b[1;32m    848\u001b[0m     \u001b[0;32mdef\u001b[0m \u001b[0mdiag\u001b[0m\u001b[0;34m(\u001b[0m\u001b[0mself\u001b[0m\u001b[0;34m,\u001b[0m \u001b[0mX\u001b[0m\u001b[0;34m)\u001b[0m\u001b[0;34m:\u001b[0m\u001b[0;34m\u001b[0m\u001b[0;34m\u001b[0m\u001b[0m\n",
      "\u001b[0;32m~/anaconda3/lib/python3.9/site-packages/sklearn/gaussian_process/kernels.py\u001b[0m in \u001b[0;36m__call__\u001b[0;34m(self, X, Y, eval_gradient)\u001b[0m\n\u001b[1;32m   1380\u001b[0m \u001b[0;34m\u001b[0m\u001b[0m\n\u001b[1;32m   1381\u001b[0m         \u001b[0;32mif\u001b[0m \u001b[0mY\u001b[0m \u001b[0;32mis\u001b[0m \u001b[0;32mNone\u001b[0m\u001b[0;34m:\u001b[0m\u001b[0;34m\u001b[0m\u001b[0;34m\u001b[0m\u001b[0m\n\u001b[0;32m-> 1382\u001b[0;31m             \u001b[0mK\u001b[0m \u001b[0;34m=\u001b[0m \u001b[0mself\u001b[0m\u001b[0;34m.\u001b[0m\u001b[0mnoise_level\u001b[0m \u001b[0;34m*\u001b[0m \u001b[0mnp\u001b[0m\u001b[0;34m.\u001b[0m\u001b[0meye\u001b[0m\u001b[0;34m(\u001b[0m\u001b[0m_num_samples\u001b[0m\u001b[0;34m(\u001b[0m\u001b[0mX\u001b[0m\u001b[0;34m)\u001b[0m\u001b[0;34m)\u001b[0m\u001b[0;34m\u001b[0m\u001b[0;34m\u001b[0m\u001b[0m\n\u001b[0m\u001b[1;32m   1383\u001b[0m             \u001b[0;32mif\u001b[0m \u001b[0meval_gradient\u001b[0m\u001b[0;34m:\u001b[0m\u001b[0;34m\u001b[0m\u001b[0;34m\u001b[0m\u001b[0m\n\u001b[1;32m   1384\u001b[0m                 \u001b[0;32mif\u001b[0m \u001b[0;32mnot\u001b[0m \u001b[0mself\u001b[0m\u001b[0;34m.\u001b[0m\u001b[0mhyperparameter_noise_level\u001b[0m\u001b[0;34m.\u001b[0m\u001b[0mfixed\u001b[0m\u001b[0;34m:\u001b[0m\u001b[0;34m\u001b[0m\u001b[0;34m\u001b[0m\u001b[0m\n",
      "\u001b[0;31mKeyboardInterrupt\u001b[0m: "
     ]
    }
   ],
   "source": [
    "sigma = 1 #output variance scale\n",
    "length_scale = 200 #length_scale\n",
    "white_noise = 1e-6 #likelihood noise\n",
    "optimize = False\n",
    "iterations = 0\n",
    "jitter = 1e-6 #can only be specified in scikit and pyro\n",
    "gpr_array = np.empty((13, 4, 2), dtype=object) \n",
    "for l, kernel in enumerate([\"laplacian\", \"gaussian\"]):\n",
    "    for k, lib in enumerate([\"scikit\", \"gpy\", \"gpflow\", \"pyro\" ]):\n",
    "        mae_array = np.zeros((12,))\n",
    "        training_wall_array = np.zeros((12,))\n",
    "        testing_wall_array = np.zeros((12,))\n",
    "        training_cpu_array = np.zeros((12,))\n",
    "        testing_cpu_array = np.zeros((12,))\n",
    "        for j in range(1, 11):\n",
    "            for i in range(12):\n",
    "                N = pow(2, i+1)\n",
    "                if N > 10000:\n",
    "                    break\n",
    "                X_copy = X.copy()\n",
    "                y_copy = y.copy()\n",
    "                np.random.seed(j)\n",
    "                np.random.shuffle(X_copy)\n",
    "                np.random.seed(j)\n",
    "                np.random.shuffle(y_copy)\n",
    "                X_train = X_copy[:N]\n",
    "                y_train = y_copy[:N]\n",
    "                avg_mae = 0\n",
    "                X_test = X_copy[9000:]\n",
    "                y_test = y_copy[9000:]\n",
    "                gpr_ins = GPR(library=lib,\n",
    "                              kernel=kernel, \n",
    "                              sigma = sigma, \n",
    "                              length_scale=length_scale, \n",
    "                              white_noise=white_noise, \n",
    "                              optimize = optimize,  \n",
    "                              iterations = iterations,\n",
    "                              jitter = jitter,\n",
    "                              seed = j)\n",
    "                gpr_ins.fit(X_train, y_train)\n",
    "                training_wall_array[i] += gpr_ins.training_time_wall\n",
    "                training_cpu_array[i] += gpr_ins.training_time_cpu\n",
    "                \n",
    "\n",
    "                X_test_n = X_copy[:N]\n",
    "                gpr_ins.predict(X_test_n)\n",
    "                testing_wall_array[i] += gpr_ins.testing_time_wall\n",
    "                testing_cpu_array[i] += gpr_ins.testing_time_cpu\n",
    "                \n",
    "                gpr_ins.compute_mae(X_test, y_test)\n",
    "                mae_array[i] += gpr_ins.mae\n",
    "                gpr_ins = None\n",
    "\n",
    "                if j == 10:\n",
    "                    gpr_array[i, k, l] = GPR_benchmark(avg_mae = mae_array[i] /10,\n",
    "                                                       avg_training_time_wall = training_wall_array[i] /10, \n",
    "                                                       avg_testing_time_wall = testing_wall_array[i] /10,\n",
    "                                                       avg_training_time_cpu = training_cpu_array[i] /10,\n",
    "                                                       avg_testing_time_cpu = testing_cpu_array[i] /10,\n",
    "                                                       library = lib,\n",
    "                                                       kernel = kernel,\n",
    "                                                       sample_size = N,\n",
    "                                                       sigma = sigma,\n",
    "                                                       length_scale = length_scale,\n",
    "                                                       white_noise = white_noise,\n",
    "                                                       optimize = optimize,\n",
    "                                                       iterations = iterations,\n",
    "                                                       jitter = jitter,\n",
    "                                                       seed = seed)\n",
    "                    \n",
    "for l, kernel in enumerate([\"laplacian\", \"gaussian\"]):\n",
    "    for k, lib in enumerate([\"scikit\", \"gpy\", \"gpflow\", \"pyro\" ]):\n",
    "        mae_array = np.zeros((13,))\n",
    "        training_wall_array = np.zeros((13,))\n",
    "        testing_wall_array = np.zeros((13,))\n",
    "        training_cpu_array = np.zeros((13,))\n",
    "        testing_cpu_array = np.zeros((13,))\n",
    "        for j in range(1, 11):\n",
    "            for i in range(12, 13):\n",
    "                N = pow(2, i+1)\n",
    "                if N > 10000:\n",
    "                    break\n",
    "                X_copy = X.copy()\n",
    "                y_copy = y.copy()\n",
    "                np.random.seed(j)\n",
    "                np.random.shuffle(X_copy)\n",
    "                np.random.seed(j)\n",
    "                np.random.shuffle(y_copy)\n",
    "                X_train = X_copy[:N]\n",
    "                y_train = y_copy[:N]\n",
    "                avg_mae = 0\n",
    "                X_test = X_copy[9000:] #Taking remaining 1000 samples\n",
    "                y_test = y_copy[9000:]\n",
    "                gpr_ins = GPR(library=lib,\n",
    "                              kernel=kernel, \n",
    "                              sigma = sigma, \n",
    "                              length_scale=length_scale, \n",
    "                              white_noise=white_noise, \n",
    "                              optimize = optimize,  \n",
    "                              iterations = iterations,\n",
    "                              jitter = jitter,\n",
    "                              seed = j)\n",
    "                gpr_ins.fit(X_train, y_train)\n",
    "                training_wall_array[i] += gpr_ins.training_time_wall\n",
    "                training_cpu_array[i] += gpr_ins.training_time_cpu\n",
    "                \n",
    "                \n",
    "                #Strictly for evaluation time comparisions. Bad for MAE calculations as training data is used for testing\n",
    "                X_test_time = X_copy[:N]\n",
    "                gpr_ins.predict(X_test_time)\n",
    "                testing_wall_array[i] += gpr_ins.testing_time_wall\n",
    "                testing_cpu_array[i] += gpr_ins.testing_time_cpu\n",
    "                \n",
    "                gpr_ins.compute_mae(X_test, y_test)\n",
    "                mae_array[i] += gpr_ins.mae\n",
    "                gpr_ins = None\n",
    "\n",
    "                if j == 10:\n",
    "                    gpr_array[i, k, l] = GPR_benchmark(avg_mae = mae_array[i] /10,\n",
    "                                                       avg_training_time_wall = training_wall_array[i] /10, \n",
    "                                                       avg_testing_time_wall = testing_wall_array[i] /10,\n",
    "                                                       avg_training_time_cpu = training_cpu_array[i] /10,\n",
    "                                                       avg_testing_time_cpu = testing_cpu_array[i] /10,\n",
    "                                                       library = lib,\n",
    "                                                       kernel = kernel,\n",
    "                                                       sample_size = N,\n",
    "                                                       sigma = sigma,\n",
    "                                                       length_scale = length_scale,\n",
    "                                                       white_noise = white_noise,\n",
    "                                                       optimize = optimize,\n",
    "                                                       iterations = iterations,\n",
    "                                                       jitter = jitter,\n",
    "                                                       seed = seed)"
   ]
  },
  {
   "cell_type": "code",
   "execution_count": 39,
   "id": "94e1cfbb",
   "metadata": {},
   "outputs": [
    {
     "ename": "NameError",
     "evalue": "name 'krr_array' is not defined",
     "output_type": "error",
     "traceback": [
      "\u001b[0;31m---------------------------------------------------------------------------\u001b[0m",
      "\u001b[0;31mNameError\u001b[0m                                 Traceback (most recent call last)",
      "\u001b[0;32m/tmp/ipykernel_38020/2791843549.py\u001b[0m in \u001b[0;36m<module>\u001b[0;34m\u001b[0m\n\u001b[1;32m      1\u001b[0m \u001b[0moutfile\u001b[0m \u001b[0;34m=\u001b[0m \u001b[0;34m\"/home/ssunar/Thesis/data/output_data_new/GPR_thread_\"\u001b[0m \u001b[0;34m+\u001b[0m \u001b[0mstr\u001b[0m\u001b[0;34m(\u001b[0m\u001b[0mthread\u001b[0m\u001b[0;34m)\u001b[0m \u001b[0;34m+\u001b[0m \u001b[0;34m\".npy\"\u001b[0m\u001b[0;34m\u001b[0m\u001b[0;34m\u001b[0m\u001b[0m\n\u001b[0;32m----> 2\u001b[0;31m \u001b[0mnp\u001b[0m\u001b[0;34m.\u001b[0m\u001b[0msave\u001b[0m\u001b[0;34m(\u001b[0m\u001b[0moutfile\u001b[0m\u001b[0;34m,\u001b[0m \u001b[0mkrr_array\u001b[0m\u001b[0;34m)\u001b[0m\u001b[0;34m\u001b[0m\u001b[0;34m\u001b[0m\u001b[0m\n\u001b[0m",
      "\u001b[0;31mNameError\u001b[0m: name 'krr_array' is not defined"
     ]
    }
   ],
   "source": [
    "outfile = \"/home/ssunar/Thesis/data/output_data_new/GPR_thread_\" + str(thread) + \".npy\"\n",
    "np.save(outfile, krr_array)"
   ]
  },
  {
   "cell_type": "code",
   "execution_count": 45,
   "id": "f2acfa5e",
   "metadata": {},
   "outputs": [],
   "source": [
    "threads = [19]\n",
    "gpr_array = np.array([np.load(\"/home/ssunar/Thesis/data/output_data_new/GPR_thread_\" + str(thread) + \".npy\", allow_pickle=True) for thread in threads])"
   ]
  },
  {
   "cell_type": "code",
   "execution_count": 46,
   "id": "012483b9",
   "metadata": {},
   "outputs": [],
   "source": [
    "def plot_avg_mae(krr_array):\n",
    "    fig, axs = plt.subplots(nrows=1, ncols=1, figsize=(6, 5))\n",
    "    kernel_names = [\"Laplacian\", \"Gaussian\"]\n",
    "    library_names = [\"scikit-learn\", \"gpy\", \"gpflow\", \"pyro\"]\n",
    "    for k, kernel_name in enumerate(kernel_names):\n",
    "        for l, library_name in enumerate(library_names):\n",
    "            if k == 0:\n",
    "                alpha = 1\n",
    "            else:\n",
    "                alpha = 0.7\n",
    "            avg_mae_array = np.zeros((13,))\n",
    "            for i in range(13):\n",
    "                avg_mae_array[i] = krr_array[0, i, l, k].avg_mae\n",
    "            axs.loglog(np.array([2 ** i for i in range(1, 14)]), avg_mae_array, label=library_name+\"_\"+kernel_name, alpha = alpha)\n",
    "            axs.set_title(f\"Learning curve GPR\")\n",
    "            axs.set_xlabel(\"Sample Size\")\n",
    "            axs.set_ylabel(\"Average MAE\")\n",
    "            axs.legend()\n",
    "    plt.tight_layout()\n",
    "    plt.show()\n",
    "    fig.savefig(\"./img/Learning_curve_GPR.png\", dpi = 200)"
   ]
  },
  {
   "cell_type": "code",
   "execution_count": 47,
   "id": "0b818840",
   "metadata": {},
   "outputs": [
    {
     "data": {
      "image/png": "[encoded data removed]",
      "text/plain": [
       "<Figure size 600x500 with 1 Axes>"
      ]
     },
     "metadata": {},
     "output_type": "display_data"
    }
   ],
   "source": [
    "plot_avg_mae(gpr_array)"
   ]
  },
  {
   "cell_type": "code",
   "execution_count": null,
   "id": "4abd775b",
   "metadata": {},
   "outputs": [],
   "source": [
    "def plot_avg_training(krr_array):\n",
    "    fig, axs = plt.subplots(nrows=1, ncols=1, figsize=(6, 5))\n",
    "    kernel_names = [\"Laplacian\", \"Gaussian\"]\n",
    "    library_names = [\"scikit-learn\", \"gpy\", \"gpflow\", \"pyro\"]\n",
    "    times_names = [\"cpu_time\"]\n",
    "    threads = [1]\n",
    "    \n",
    "\n",
    "    for j, thread in enumerate(threads):\n",
    "        for t, time_name in enumerate(times_names):\n",
    "            for l, library_name in enumerate(library_names):\n",
    "                for k, kernel_name in enumerate(kernel_names):\n",
    "                    avg_training_time = np.zeros((13,))\n",
    "                    for i in range(13):\n",
    "                        if t  == 1:\n",
    "                            avg_training_time[i] = krr_array[j, i, l, k].avg_training_time_wall\n",
    "                        else:\n",
    "                            avg_training_time[i] = krr_array[j, i, l, k].avg_training_time_cpu\n",
    "                    axs.plot(np.array([2 ** i for i in range(1, 14)]), avg_training_time, label=library_name+\"_\"+kernel_name, alpha = 0.7)\n",
    "                    axs.set_title(f\"Training time plot KRR, Thread(s) = {thread}\")\n",
    "                    axs.set_xlabel(\"Sample Size\")\n",
    "                    axs.set_ylabel(f\"{time_name} in seconds\")\n",
    "                    axs.legend()\n",
    "    plt.tight_layout()\n",
    "    plt.show()\n",
    "    fig.savefig(\"./img/Training_time_CPU_GPR.png\", dpi = 200)"
   ]
  },
  {
   "cell_type": "code",
   "execution_count": null,
   "id": "8fb3d140",
   "metadata": {},
   "outputs": [],
   "source": [
    "gpr_array[0,12,3,1].avg_training_time_wall"
   ]
  },
  {
   "cell_type": "code",
   "execution_count": null,
   "id": "4f896c0f",
   "metadata": {},
   "outputs": [],
   "source": [
    "plot_avg_training(gpr_array)"
   ]
  },
  {
   "cell_type": "code",
   "execution_count": null,
   "id": "b58d639c",
   "metadata": {},
   "outputs": [],
   "source": [
    "def plot_avg_testing(krr_array):\n",
    "    fig, axs = plt.subplots(nrows=1, ncols=1, figsize=(6, 5))\n",
    "    kernel_names = [\"Laplacian\", \"Gaussian\"]\n",
    "    library_names = [\"scikit-learn\", \"gpy\", \"gpflow\", \"pyro\"]\n",
    "    times_names = [\"cpu_time\"]\n",
    "    threads = [1]\n",
    "    \n",
    "\n",
    "    for j, thread in enumerate(threads):\n",
    "        for t, time_name in enumerate(times_names):\n",
    "            for l, library_name in enumerate(library_names):\n",
    "                for k, kernel_name in enumerate(kernel_names):\n",
    "                    avg_testing_time = np.zeros((9,))\n",
    "                    for i in range(9):\n",
    "                        if t  == 1:\n",
    "                            avg_testing_time[i] = krr_array[j, i, l, k].avg_testing_time_wall\n",
    "                        else:\n",
    "                            avg_testing_time[i] = krr_array[j, i, l, k].avg_testing_time_cpu\n",
    "                    axs.plot(np.array([2 ** i for i in range(1, 10)]), avg_testing_time, label=library_name+\"_\"+kernel_name, alpha = 0.7)\n",
    "                    axs.set_title(f\"Evaluation time plot KRR, Thread(s) = {thread}\")\n",
    "                    axs.set_xlabel(\"Sample Size\")\n",
    "                    axs.set_ylabel(f\"{time_name} in seconds\")\n",
    "                    axs.legend()\n",
    "    plt.tight_layout()\n",
    "    plt.show()\n",
    "    fig.savefig(\"./img/Evaluation_time_CPU_GPR.png\", dpi = 200)"
   ]
  },
  {
   "cell_type": "code",
   "execution_count": null,
   "id": "5704bbcd",
   "metadata": {},
   "outputs": [],
   "source": [
    "plot_avg_testing(gpr_array)"
   ]
  },
  {
   "cell_type": "code",
   "execution_count": null,
   "id": "b2a44474",
   "metadata": {},
   "outputs": [],
   "source": [
    "krr_array_new = np.array([np.load(\"/home/ssunar/Thesis/data/output_data_new/GPR_thread_\" + str(thread) + \".npy\", allow_pickle=True) for thread in range(1, 16)])"
   ]
  },
  {
   "cell_type": "code",
   "execution_count": null,
   "id": "6c3e08d5",
   "metadata": {},
   "outputs": [],
   "source": [
    "def plot_scalability(krr_array):\n",
    "    fig, axs = plt.subplots(nrows=3, ncols=1, figsize=(10,12))\n",
    "    kernel_names = [\"Laplacian\", \"Gaussian\"]\n",
    "    library_names = [\"scikit-learn\", \"gpy\", \"gpflow\", \"pyro\"]\n",
    "    times_names = [\"wall_time\"]\n",
    "    threads = [i for i in range(1, 16)]\n",
    "    samples_idx = [9, 11, 12]\n",
    "    \n",
    "\n",
    "    for i, sample_idx in enumerate(samples_idx):\n",
    "        for t, time_name in enumerate(times_names):\n",
    "            for l, library_name in enumerate(library_names):\n",
    "                for k, kernel_name in enumerate(kernel_names):\n",
    "                    avg_training_time= np.zeros((15,))\n",
    "                    for j, thread in enumerate(threads):\n",
    "                        if time_name == \"wall_time\":\n",
    "#                             avg_training_time[j-1] = krr_array[j-1, sample_idx, l, k].avg_training_time_wall\n",
    "#                         else:\n",
    "                            avg_training_time[j-1] = krr_array[j-1, sample_idx, l, k].avg_training_time_cpu\n",
    "                    axs[i].plot(np.array(threads), avg_training_time, label=library_name+\"_\"+kernel_name, alpha = 0.7)\n",
    "                    axs[i].set_title(f\"Training time Scalability plot GPR, Samples={2**(sample_idx+1)}, Time={time_name}\")\n",
    "                    axs[i].set_xlabel(\"Number of threads\")\n",
    "                    axs[i].set_ylabel(f\"times in seconds\")\n",
    "                    axs[i].set_xticks([i for i in range(1, 21, 1)])\n",
    "                    axs[i].legend()\n",
    "    plt.tight_layout()\n",
    "    plt.show()\n",
    "    fig.savefig(\"./img/Scalability_Training_time_GPR.png\", dpi = 200)"
   ]
  },
  {
   "cell_type": "code",
   "execution_count": null,
   "id": "d166692a",
   "metadata": {},
   "outputs": [],
   "source": [
    "plot_scalability(krr_array_new)"
   ]
  },
  {
   "cell_type": "code",
   "execution_count": null,
   "id": "309da88e",
   "metadata": {},
   "outputs": [],
   "source": []
  }
 ],
 "metadata": {
  "kernelspec": {
   "display_name": "Python 3 (ipykernel)",
   "language": "python",
   "name": "python3"
  },
  "language_info": {
   "codemirror_mode": {
    "name": "ipython",
    "version": 3
   },
   "file_extension": ".py",
   "mimetype": "text/x-python",
   "name": "python",
   "nbconvert_exporter": "python",
   "pygments_lexer": "ipython3",
   "version": "3.9.13"
  }
 },
 "nbformat": 4,
 "nbformat_minor": 5
}
